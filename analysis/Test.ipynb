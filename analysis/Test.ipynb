{
 "cells": [
  {
   "cell_type": "code",
   "execution_count": 1,
   "metadata": {},
   "outputs": [],
   "source": [
    "%load_ext boa.ipython\n",
    "import boa\n",
    "boa.interpret.set_cache_dir()\n",
    "boa.env.enable_gas_profiling()"
   ]
  },
  {
   "cell_type": "code",
   "execution_count": 82,
   "metadata": {},
   "outputs": [
    {
     "data": {
      "text/plain": [
       "<boa.contract.VyperDeployer at 0x7f49288615d0>"
      ]
     },
     "execution_count": 82,
     "metadata": {},
     "output_type": "execute_result"
    }
   ],
   "source": [
    "%%vyper\n",
    "\n",
    "@external\n",
    "@pure\n",
    "def cbrt(x: uint256) -> uint256:\n",
    "\n",
    "    if x == 0:\n",
    "        return 0\n",
    "\n",
    "    # multiply with 10 ** 36 for increasing cbrt precision\n",
    "    _x: uint256 = unsafe_mul(x, 10**36)\n",
    "\n",
    "    # get log2(x) for approximating initial value\n",
    "    # logic is: cbrt(a) = cbrt(2**(log2(a))) = 2**(log2(a) / 3) ≈ 2**|log2(a)/3|\n",
    "    # from: https://github.com/transmissions11/solmate/blob/b9d69da49bbbfd090f1a73a4dba28aa2d5ee199f/src/utils/FixedPointMathLib.sol#L352\n",
    "\n",
    "    a_pow: int256 = 0\n",
    "    if _x > 340282366920938463463374607431768211455:\n",
    "        a_pow = 128\n",
    "    if unsafe_div(_x, shift(2, a_pow)) > 18446744073709551615:\n",
    "        a_pow = a_pow | 64\n",
    "    if unsafe_div(_x, shift(2, a_pow)) > 4294967295:\n",
    "        a_pow = a_pow | 32\n",
    "    if unsafe_div(_x, shift(2, a_pow)) > 65535:\n",
    "        a_pow = a_pow | 16\n",
    "    if unsafe_div(_x, shift(2, a_pow)) > 255:\n",
    "        a_pow = a_pow | 8\n",
    "    if unsafe_div(_x, shift(2, a_pow)) > 15:\n",
    "        a_pow = a_pow | 4\n",
    "    if unsafe_div(_x, shift(2, a_pow)) > 3:\n",
    "        a_pow = a_pow | 2\n",
    "    if unsafe_div(_x, shift(2, a_pow)) > 1:\n",
    "        a_pow = a_pow | 1\n",
    "\n",
    "    # initial value:\n",
    "    a: uint256 = unsafe_div(unsafe_mul(pow_mod256(2, unsafe_div(convert(a_pow, uint256), 3)), 1260), 1000)\n",
    "\n",
    "    # 6 newton-raphson iterations:\n",
    "    a = unsafe_div(unsafe_add(unsafe_mul(2, a),unsafe_div(_x, a**2)), 3)\n",
    "    a = unsafe_div(unsafe_add(unsafe_mul(2, a),unsafe_div(_x, a**2)), 3)\n",
    "    a = unsafe_div(unsafe_add(unsafe_mul(2, a),unsafe_div(_x, a**2)), 3)\n",
    "    a = unsafe_div(unsafe_add(unsafe_mul(2, a),unsafe_div(_x, a**2)), 3)\n",
    "    a = unsafe_div(unsafe_add(unsafe_mul(2, a),unsafe_div(_x, a**2)), 3)\n",
    "    a = unsafe_div(unsafe_add(unsafe_mul(2, a),unsafe_div(_x, a**2)), 3)\n",
    "\n",
    "    return a"
   ]
  },
  {
   "cell_type": "code",
   "execution_count": 20,
   "metadata": {},
   "outputs": [
    {
     "data": {
      "text/plain": [
       "<boa.contract.VyperDeployer at 0x7f4cd2c0e8c0>"
      ]
     },
     "execution_count": 20,
     "metadata": {},
     "output_type": "execute_result"
    }
   ],
   "source": [
    "%%vyper\n",
    "\n",
    "@external\n",
    "@pure\n",
    "def _sum(arr: uint256[3]) -> uint256:\n",
    "    s: uint256 = 0\n",
    "    # for i in range(3):\n",
    "    #     s += arr[i]\n",
    "    s = arr[0] + arr[1] + arr[2]\n",
    "    return s"
   ]
  },
  {
   "cell_type": "code",
   "execution_count": 21,
   "metadata": {},
   "outputs": [],
   "source": [
    "c = _.deploy()"
   ]
  },
  {
   "cell_type": "code",
   "execution_count": 22,
   "metadata": {},
   "outputs": [
    {
     "data": {
      "text/plain": [
       "222"
      ]
     },
     "execution_count": 22,
     "metadata": {},
     "output_type": "execute_result"
    }
   ],
   "source": [
    "val = 10**41\n",
    "\n",
    "# print(\n",
    "#     f'Vyper:  {c.cbrt(val)}\\n'\n",
    "#     f'Python: {_cbrt_wad_ideal(val)}\\n'\n",
    "#     f'Gas:    {c._computation.get_gas_used()}\\n'\n",
    "# )\n",
    "\n",
    "c._sum([10**18, 10**18, 10**18])\n",
    "\n",
    "# c.line_profile().summary()\n",
    "c._computation.get_gas_used()"
   ]
  }
 ],
 "metadata": {
  "kernelspec": {
   "display_name": "Python 3.10.4 ('env': venv)",
   "language": "python",
   "name": "python3"
  },
  "language_info": {
   "codemirror_mode": {
    "name": "ipython",
    "version": 3
   },
   "file_extension": ".py",
   "mimetype": "text/x-python",
   "name": "python",
   "nbconvert_exporter": "python",
   "pygments_lexer": "ipython3",
   "version": "3.10.4"
  },
  "orig_nbformat": 4,
  "vscode": {
   "interpreter": {
    "hash": "a803ee009ac9be50e88dffe04072854a84dcbf294523f6de2d02d046cffd9cb9"
   }
  }
 },
 "nbformat": 4,
 "nbformat_minor": 2
}
